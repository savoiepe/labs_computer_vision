{
 "cells": [
  {
   "cell_type": "code",
   "execution_count": 2,
   "id": "2f33fc98",
   "metadata": {},
   "outputs": [],
   "source": [
    "import cv2\n",
    "import os"
   ]
  },
  {
   "cell_type": "code",
   "execution_count": 2,
   "id": "80729f43",
   "metadata": {},
   "outputs": [],
   "source": [
    "file_names = os.listdir('./data/database/')\n",
    "\n",
    "images = [ cv2.imread('./data/database/'+str(path)) for path in file_names ]"
   ]
  },
  {
   "cell_type": "markdown",
   "id": "db7a517a",
   "metadata": {},
   "source": [
    "## HOG"
   ]
  },
  {
   "cell_type": "code",
   "execution_count": 3,
   "id": "930bce66",
   "metadata": {},
   "outputs": [],
   "source": [
    "hog = cv2.HOGDescriptor()"
   ]
  },
  {
   "cell_type": "code",
   "execution_count": 3,
   "id": "d1f1923a",
   "metadata": {},
   "outputs": [],
   "source": [
    "im = cv2.imread(\"./data/ball_query.jpg\")"
   ]
  },
  {
   "cell_type": "code",
   "execution_count": 14,
   "id": "41152b22",
   "metadata": {},
   "outputs": [],
   "source": [
    "h = hog.compute(im)"
   ]
  },
  {
   "cell_type": "code",
   "execution_count": 4,
   "id": "c42eac1a",
   "metadata": {},
   "outputs": [],
   "source": [
    "cv2.imshow(\"image\", im)"
   ]
  },
  {
   "cell_type": "code",
   "execution_count": 17,
   "id": "4130dd1d",
   "metadata": {},
   "outputs": [
    {
     "data": {
      "text/plain": [
       "['airplane_1.jpg',\n",
       " 'airplane_2.jpg',\n",
       " 'airplane_3.jpg',\n",
       " 'airplane_4.jpg',\n",
       " 'airplane_5.jpg',\n",
       " 'ball_1.jpg',\n",
       " 'ball_2.jpg',\n",
       " 'ball_3.jpg',\n",
       " 'ball_4.jpg',\n",
       " 'ball_5.jpg',\n",
       " 'car_1.jpg',\n",
       " 'car_2.jpg',\n",
       " 'car_3.jpg',\n",
       " 'car_4.jpg',\n",
       " 'car_5.jpg',\n",
       " 'cat_1.jpg',\n",
       " 'cat_2.jpg',\n",
       " 'cat_3.jpg',\n",
       " 'cat_4.jpg',\n",
       " 'cat_5.jpg',\n",
       " 'dolphin_1.jpg',\n",
       " 'dolphin_2.jpg',\n",
       " 'dolphin_3.jpg',\n",
       " 'dolphin_4.jpg',\n",
       " 'dolphin_5.jpg',\n",
       " 'face_1.jpg',\n",
       " 'face_2.jpg',\n",
       " 'face_3.jpg',\n",
       " 'face_4.jpg',\n",
       " 'face_5.jpg',\n",
       " 'lotus_1.jpg',\n",
       " 'lotus_2.jpg',\n",
       " 'lotus_3.jpg',\n",
       " 'lotus_4.jpg',\n",
       " 'lotus_5.jpg',\n",
       " 'pickles_1.jpg',\n",
       " 'pickles_2.jpg',\n",
       " 'pickles_3.jpg',\n",
       " 'pickles_4.jpg',\n",
       " 'pickles_5.jpg']"
      ]
     },
     "execution_count": 17,
     "metadata": {},
     "output_type": "execute_result"
    }
   ],
   "source": [
    "arr = os.listdir('./data/database/')\n",
    "arr"
   ]
  },
  {
   "cell_type": "code",
   "execution_count": null,
   "id": "e236bcb6",
   "metadata": {},
   "outputs": [],
   "source": []
  }
 ],
 "metadata": {
  "kernelspec": {
   "display_name": "Python 3 (ipykernel)",
   "language": "python",
   "name": "python3"
  },
  "language_info": {
   "codemirror_mode": {
    "name": "ipython",
    "version": 3
   },
   "file_extension": ".py",
   "mimetype": "text/x-python",
   "name": "python",
   "nbconvert_exporter": "python",
   "pygments_lexer": "ipython3",
   "version": "3.9.12"
  }
 },
 "nbformat": 4,
 "nbformat_minor": 5
}
